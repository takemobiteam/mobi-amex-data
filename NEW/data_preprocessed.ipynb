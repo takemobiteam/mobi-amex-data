{
 "cells": [
  {
   "cell_type": "code",
   "execution_count": 4,
   "id": "473adc78",
   "metadata": {},
   "outputs": [],
   "source": [
    "import time\n",
    "import csv\n",
    "import pickle\n",
    "import operator\n",
    "import datetime\n",
    "import os\n",
    "from tqdm import tqdm\n",
    "import pandas as pd\n",
    "from collections import defaultdict\n",
    "from sklearn import preprocessing"
   ]
  },
  {
   "cell_type": "code",
   "execution_count": 5,
   "id": "88ce8529",
   "metadata": {},
   "outputs": [
    {
     "name": "stdout",
     "output_type": "stream",
     "text": [
      "It takes 3.4165 seconds to read the data\n"
     ]
    }
   ],
   "source": [
    "path = \"./dataset\"\n",
    "start=time.time()\n",
    "df=pd.read_csv(os.path.join(path,'user_session_items_df.csv'))\n",
    "print(\"It takes {:.4f} seconds to read the data\".format(time.time()-start))"
   ]
  },
  {
   "cell_type": "code",
   "execution_count": 6,
   "id": "40bf944d",
   "metadata": {},
   "outputs": [
    {
     "data": {
      "text/html": [
       "<div>\n",
       "<style scoped>\n",
       "    .dataframe tbody tr th:only-of-type {\n",
       "        vertical-align: middle;\n",
       "    }\n",
       "\n",
       "    .dataframe tbody tr th {\n",
       "        vertical-align: top;\n",
       "    }\n",
       "\n",
       "    .dataframe thead th {\n",
       "        text-align: right;\n",
       "    }\n",
       "</style>\n",
       "<table border=\"1\" class=\"dataframe\">\n",
       "  <thead>\n",
       "    <tr style=\"text-align: right;\">\n",
       "      <th></th>\n",
       "      <th>user_id</th>\n",
       "      <th>session_id</th>\n",
       "      <th>create_time</th>\n",
       "      <th>trip_id</th>\n",
       "      <th>item_id</th>\n",
       "    </tr>\n",
       "  </thead>\n",
       "  <tbody>\n",
       "    <tr>\n",
       "      <th>0</th>\n",
       "      <td>fffe2dcb8a8381a5e71d05dd24159110</td>\n",
       "      <td>3057e0f6-d576-461d-ba23-7a5ecbbb55cf</td>\n",
       "      <td>2022-10-13 21:05:55.695</td>\n",
       "      <td>3eb1c6d3-ae10-3e0f-a6cd-3a03218092ce</td>\n",
       "      <td>82bf80fc-36d7-3199-aded-a4352493330a</td>\n",
       "    </tr>\n",
       "    <tr>\n",
       "      <th>1</th>\n",
       "      <td>fffe2dcb8a8381a5e71d05dd24159110</td>\n",
       "      <td>3057e0f6-d576-461d-ba23-7a5ecbbb55cf</td>\n",
       "      <td>2022-10-13 21:05:55.695</td>\n",
       "      <td>3eb1c6d3-ae10-3e0f-a6cd-3a03218092ce</td>\n",
       "      <td>c7aed8f5-fdcd-3089-9744-a59f5f6608fc</td>\n",
       "    </tr>\n",
       "  </tbody>\n",
       "</table>\n",
       "</div>"
      ],
      "text/plain": [
       "                            user_id                            session_id  \\\n",
       "0  fffe2dcb8a8381a5e71d05dd24159110  3057e0f6-d576-461d-ba23-7a5ecbbb55cf   \n",
       "1  fffe2dcb8a8381a5e71d05dd24159110  3057e0f6-d576-461d-ba23-7a5ecbbb55cf   \n",
       "\n",
       "               create_time                               trip_id  \\\n",
       "0  2022-10-13 21:05:55.695  3eb1c6d3-ae10-3e0f-a6cd-3a03218092ce   \n",
       "1  2022-10-13 21:05:55.695  3eb1c6d3-ae10-3e0f-a6cd-3a03218092ce   \n",
       "\n",
       "                                item_id  \n",
       "0  82bf80fc-36d7-3199-aded-a4352493330a  \n",
       "1  c7aed8f5-fdcd-3089-9744-a59f5f6608fc  "
      ]
     },
     "execution_count": 6,
     "metadata": {},
     "output_type": "execute_result"
    }
   ],
   "source": [
    "df.drop([\"Unnamed: 0\"],inplace=True,axis=1)\n",
    "df.head(2)"
   ]
  },
  {
   "cell_type": "code",
   "execution_count": 7,
   "id": "3385f7f4",
   "metadata": {},
   "outputs": [
    {
     "name": "stderr",
     "output_type": "stream",
     "text": [
      "100%|██████████| 31877/31877 [00:00<00:00, 2659621.42it/s]\n",
      "100%|██████████| 66820/66820 [00:00<00:00, 2447779.36it/s]\n",
      "100%|██████████| 131109/131109 [00:00<00:00, 2159299.66it/s]\n"
     ]
    }
   ],
   "source": [
    "def convert_id_integer(df,column_name):\n",
    "    all_id={*df[column_name].unique()}\n",
    "    dict_id={}\n",
    "    cnt=0\n",
    "    for v in tqdm(all_id):\n",
    "        if v not in dict_id:\n",
    "            dict_id[v]=cnt\n",
    "            cnt+=1\n",
    "    return dict_id\n",
    "\n",
    "user_dict=convert_id_integer(df,\"user_id\")\n",
    "session_dict=convert_id_integer(df,\"session_id\")\n",
    "item_dict=convert_id_integer(df,\"item_id\")"
   ]
  },
  {
   "cell_type": "code",
   "execution_count": 8,
   "id": "eb525f79",
   "metadata": {},
   "outputs": [
    {
     "name": "stderr",
     "output_type": "stream",
     "text": [
      "100%|██████████| 2119332/2119332 [02:44<00:00, 12845.60it/s]\n"
     ]
    },
    {
     "data": {
      "text/html": [
       "<div>\n",
       "<style scoped>\n",
       "    .dataframe tbody tr th:only-of-type {\n",
       "        vertical-align: middle;\n",
       "    }\n",
       "\n",
       "    .dataframe tbody tr th {\n",
       "        vertical-align: top;\n",
       "    }\n",
       "\n",
       "    .dataframe thead th {\n",
       "        text-align: right;\n",
       "    }\n",
       "</style>\n",
       "<table border=\"1\" class=\"dataframe\">\n",
       "  <thead>\n",
       "    <tr style=\"text-align: right;\">\n",
       "      <th></th>\n",
       "      <th>user_id</th>\n",
       "      <th>session_id</th>\n",
       "      <th>item_id</th>\n",
       "      <th>timestamp</th>\n",
       "    </tr>\n",
       "  </thead>\n",
       "  <tbody>\n",
       "    <tr>\n",
       "      <th>0</th>\n",
       "      <td>20861</td>\n",
       "      <td>24615</td>\n",
       "      <td>71653</td>\n",
       "      <td>2022-10-13 21:05:55.695</td>\n",
       "    </tr>\n",
       "    <tr>\n",
       "      <th>1</th>\n",
       "      <td>20861</td>\n",
       "      <td>24615</td>\n",
       "      <td>105685</td>\n",
       "      <td>2022-10-13 21:05:55.695</td>\n",
       "    </tr>\n",
       "    <tr>\n",
       "      <th>2</th>\n",
       "      <td>20861</td>\n",
       "      <td>24615</td>\n",
       "      <td>103446</td>\n",
       "      <td>2022-10-13 21:05:55.695</td>\n",
       "    </tr>\n",
       "    <tr>\n",
       "      <th>3</th>\n",
       "      <td>20861</td>\n",
       "      <td>24615</td>\n",
       "      <td>50171</td>\n",
       "      <td>2022-10-13 21:05:55.695</td>\n",
       "    </tr>\n",
       "    <tr>\n",
       "      <th>4</th>\n",
       "      <td>20861</td>\n",
       "      <td>24615</td>\n",
       "      <td>84308</td>\n",
       "      <td>2022-10-13 21:05:55.695</td>\n",
       "    </tr>\n",
       "  </tbody>\n",
       "</table>\n",
       "</div>"
      ],
      "text/plain": [
       "   user_id  session_id  item_id                timestamp\n",
       "0    20861       24615    71653  2022-10-13 21:05:55.695\n",
       "1    20861       24615   105685  2022-10-13 21:05:55.695\n",
       "2    20861       24615   103446  2022-10-13 21:05:55.695\n",
       "3    20861       24615    50171  2022-10-13 21:05:55.695\n",
       "4    20861       24615    84308  2022-10-13 21:05:55.695"
      ]
     },
     "execution_count": 8,
     "metadata": {},
     "output_type": "execute_result"
    }
   ],
   "source": [
    "user_id=[]\n",
    "session_id=[]\n",
    "item_id=[]\n",
    "timestamp=[]\n",
    "for index,row in tqdm(df.iterrows(), total=df.shape[0]):\n",
    "    user_id.append(user_dict[row[\"user_id\"]])\n",
    "    session_id.append(session_dict[row[\"session_id\"]])\n",
    "    item_id.append(item_dict[row[\"item_id\"]])\n",
    "    timestamp.append(row[\"create_time\"])\n",
    "    \n",
    "df=pd.DataFrame({\"user_id\":user_id, \"session_id\":session_id, \"item_id\":item_id, \"timestamp\":timestamp})\n",
    "df.head()"
   ]
  },
  {
   "cell_type": "code",
   "execution_count": 31,
   "id": "843c643d",
   "metadata": {},
   "outputs": [
    {
     "data": {
      "text/plain": [
       "('2022-02-06 17:22:25.284', '2022-11-30 21:45:03.365')"
      ]
     },
     "execution_count": 31,
     "metadata": {},
     "output_type": "execute_result"
    }
   ],
   "source": [
    "df[\"timestamp\"].min(), df[\"timestamp\"].max()"
   ]
  },
  {
   "cell_type": "code",
   "execution_count": 10,
   "id": "af731906",
   "metadata": {},
   "outputs": [
    {
     "name": "stderr",
     "output_type": "stream",
     "text": [
      "100%|██████████| 2119332/2119332 [02:40<00:00, 13177.25it/s]"
     ]
    },
    {
     "name": "stdout",
     "output_type": "stream",
     "text": [
      "-- Reading data @ 2022-12-08 15:20:14.198626s\n"
     ]
    },
    {
     "name": "stderr",
     "output_type": "stream",
     "text": [
      "\n"
     ]
    }
   ],
   "source": [
    "preprocess_output_log = dict()\n",
    "\n",
    "sess_clicks = {}\n",
    "sess_date = {}\n",
    "ctr = 0\n",
    "curid = -1\n",
    "curdate = None\n",
    "for index,row in tqdm(df.iterrows(), total=df.shape[0]):\n",
    "    sessid = row['session_id']\n",
    "    if curdate and not curid == sessid:\n",
    "        date = time.mktime(time.strptime(curdate[:19], '%Y-%m-%d %H:%M:%S'))\n",
    "        sess_date[curid] = date\n",
    "    curid = sessid\n",
    "    item=row[\"item_id\"]\n",
    "    curdate = row['timestamp']\n",
    "    if sessid in sess_clicks:\n",
    "        sess_clicks[sessid] += [item]\n",
    "    else:\n",
    "        sess_clicks[sessid] = [item]\n",
    "    ctr += 1\n",
    "    \n",
    "date = time.mktime(time.strptime(curdate[:19], '%Y-%m-%d %H:%M:%S'))\n",
    "sess_date[curid] = date\n",
    "\n",
    "print(\"-- Reading data @ %ss\" % datetime.datetime.now())\n",
    "preprocess_output_log['start time'] = datetime.datetime.now()"
   ]
  },
  {
   "cell_type": "code",
   "execution_count": 11,
   "id": "9707f28e",
   "metadata": {},
   "outputs": [
    {
     "data": {
      "text/plain": [
       "66820"
      ]
     },
     "execution_count": 11,
     "metadata": {},
     "output_type": "execute_result"
    }
   ],
   "source": [
    "len(sess_clicks)"
   ]
  },
  {
   "cell_type": "code",
   "execution_count": 12,
   "id": "3082c112",
   "metadata": {},
   "outputs": [],
   "source": [
    "len1_sessions_filtered_count = 0 \n",
    "# Filter out length 1 sessions\n",
    "for s in list(sess_clicks):\n",
    "    if len(sess_clicks[s]) == 1:\n",
    "        len1_sessions_filtered_count += 1\n",
    "        del sess_clicks[s]\n",
    "        del sess_date[s]\n",
    "        \n",
    "preprocess_output_log['length 1 sessions filtered'] = len1_sessions_filtered_count"
   ]
  },
  {
   "cell_type": "code",
   "execution_count": 14,
   "id": "5b314f93",
   "metadata": {},
   "outputs": [
    {
     "data": {
      "text/plain": [
       "66652"
      ]
     },
     "execution_count": 14,
     "metadata": {},
     "output_type": "execute_result"
    }
   ],
   "source": [
    "len(sess_clicks)"
   ]
  },
  {
   "cell_type": "code",
   "execution_count": 15,
   "id": "1987835a",
   "metadata": {},
   "outputs": [],
   "source": [
    "# Count number of times each item appears\n",
    "iid_counts = {}\n",
    "for s in sess_clicks:\n",
    "    seq = sess_clicks[s]\n",
    "    for iid in seq:\n",
    "        if iid in iid_counts:\n",
    "            iid_counts[iid] += 1\n",
    "        else:\n",
    "            iid_counts[iid] = 1\n",
    "\n",
    "sorted_counts = sorted(iid_counts.items(), key=operator.itemgetter(1))"
   ]
  },
  {
   "cell_type": "code",
   "execution_count": 16,
   "id": "3ad74394",
   "metadata": {},
   "outputs": [
    {
     "data": {
      "text/plain": [
       "[(85493, 2751), (52688, 2924), (90248, 3028), (103344, 3166), (10508, 3231)]"
      ]
     },
     "execution_count": 16,
     "metadata": {},
     "output_type": "execute_result"
    }
   ],
   "source": [
    "sorted_counts[-5:]"
   ]
  },
  {
   "cell_type": "code",
   "execution_count": 19,
   "id": "812647fe",
   "metadata": {},
   "outputs": [
    {
     "data": {
      "text/plain": [
       "[24615, 60636, 11592, 42835, 17682, 63083, 21798, 10242, 5632, 65298]"
      ]
     },
     "execution_count": 19,
     "metadata": {},
     "output_type": "execute_result"
    }
   ],
   "source": [
    "list(sess_clicks)[:10]"
   ]
  },
  {
   "cell_type": "code",
   "execution_count": 23,
   "id": "1ad31023",
   "metadata": {},
   "outputs": [
    {
     "data": {
      "text/plain": [
       "[24615, 60636, 11592, 42835, 17682, 63083, 21798, 10242, 5632, 65298]"
      ]
     },
     "execution_count": 23,
     "metadata": {},
     "output_type": "execute_result"
    }
   ],
   "source": [
    "list(sess_clicks.keys())[0:10]"
   ]
  },
  {
   "cell_type": "code",
   "execution_count": 24,
   "id": "8b568def",
   "metadata": {},
   "outputs": [
    {
     "name": "stdout",
     "output_type": "stream",
     "text": [
      "before filtering:\t 66652\n",
      "after filtering:\t 65803\n"
     ]
    }
   ],
   "source": [
    "length = len(sess_clicks)\n",
    "for s in list(sess_clicks):\n",
    "    curseq = sess_clicks[s]\n",
    "    filseq = list(filter(lambda i: iid_counts[i] >= 5, curseq))\n",
    "    if len(filseq) < 2:\n",
    "        del sess_clicks[s]\n",
    "        del sess_date[s]\n",
    "    else:\n",
    "        sess_clicks[s] = filseq\n",
    "        \n",
    "print(f\"before filtering:\\t {length}\")\n",
    "print(f\"after filtering:\\t {len(sess_clicks)}\")"
   ]
  },
  {
   "cell_type": "code",
   "execution_count": 67,
   "id": "1bd1369e",
   "metadata": {},
   "outputs": [
    {
     "data": {
      "text/plain": [
       "{'start time': datetime.datetime(2022, 12, 8, 15, 20, 14, 198703),\n",
       " 'length 1 sessions filtered': 168,\n",
       " 'max date': Timestamp('2022-11-30 21:45:03'),\n",
       " 'amex split days before maxdate': 20,\n",
       " 'min date': Timestamp('2022-02-06 17:22:25')}"
      ]
     },
     "execution_count": 67,
     "metadata": {},
     "output_type": "execute_result"
    }
   ],
   "source": [
    "# Split out test set based on dates\n",
    "dates = list(sess_date.items())\n",
    "maxdate = dates[0][1]\n",
    "mindate = dates[0][1]\n",
    "for _, date in dates:\n",
    "    if maxdate < date:\n",
    "        maxdate = date\n",
    "    if mindate > date:\n",
    "        mindate = date\n",
    "        \n",
    "preprocess_output_log['max date'] = pd.to_datetime(int(maxdate), unit='s')\n",
    "preprocess_output_log['min date'] = pd.to_datetime(int(mindate), unit='s')\n",
    "preprocess_output_log"
   ]
  },
  {
   "cell_type": "code",
   "execution_count": 30,
   "id": "2df914ed",
   "metadata": {},
   "outputs": [
    {
     "data": {
      "text/plain": [
       "36206"
      ]
     },
     "execution_count": 30,
     "metadata": {},
     "output_type": "execute_result"
    }
   ],
   "source": [
    "unique_item=set()\n",
    "for k,v in sess_clicks.items():\n",
    "    for i in v:\n",
    "        if i not in unique_item:\n",
    "            unique_item.add(i)\n",
    "len(unique_item)"
   ]
  },
  {
   "cell_type": "code",
   "execution_count": 38,
   "id": "386eeb38",
   "metadata": {},
   "outputs": [],
   "source": [
    "amex_splitdate = 20\n",
    "preprocess_output_log['amex split days before maxdate'] = amex_splitdate\n",
    "splitdate = maxdate - 86400 * amex_splitdate "
   ]
  },
  {
   "cell_type": "code",
   "execution_count": 70,
   "id": "1df48796",
   "metadata": {},
   "outputs": [
    {
     "name": "stdout",
     "output_type": "stream",
     "text": [
      "Minimal date             2022-02-06 17:22:25\n",
      "Splitting date           2022-11-10 21:45:03\n",
      "Maximal date             2022-11-30 21:45:03\n",
      "\n",
      "Training Set             61,365              93.26%              \n",
      "Test Set                 4,438               6.74%               \n",
      "\n",
      "[(59595, 1644168145.0), (61662, 1644175010.0), (39385, 1644175087.0)]\n",
      "[(42087, 1668116802.0), (14743, 1668116975.0), (7304, 1668117015.0)]\n"
     ]
    }
   ],
   "source": [
    "print(\"{:<25}{:}\".format('Minimal date', pd.to_datetime(int(mindate), unit='s')))\n",
    "print(\"{:<25}{:}\".format('Splitting date', pd.to_datetime(int(splitdate), unit='s')))\n",
    "print(\"{:<25}{:}\".format('Maximal date', pd.to_datetime(int(maxdate), unit='s')))\n",
    "print()\n",
    "tra_sess = filter(lambda x: x[1] < splitdate, dates)\n",
    "tes_sess = filter(lambda x: x[1] > splitdate, dates)\n",
    "# Sort sessions by date\n",
    "tra_sess = sorted(tra_sess, key=operator.itemgetter(1))     # [(sessionId, timestamp), (), ]\n",
    "tes_sess = sorted(tes_sess, key=operator.itemgetter(1))     # [(sessionId, timestamp), (), ]\n",
    "print(\"{:<25}{:<20,}{:<20.2%}\".format(\"Training Set\",len(tra_sess),len(tra_sess)/len(dates)) )  \n",
    "print(\"{:<25}{:<20,}{:<20.2%}\".format(\"Test Set\",len(tes_sess),len(tes_sess)/len(dates)) ) \n",
    "print()\n",
    "print(tra_sess[:3])\n",
    "print(tes_sess[:3])\n"
   ]
  },
  {
   "cell_type": "code",
   "execution_count": 71,
   "id": "902eaed0",
   "metadata": {},
   "outputs": [],
   "source": [
    "preprocess_output_log['len training sessions (tra_sess)'] = len(tra_sess)\n",
    "preprocess_output_log['len test sessions (tes_sess)'] = len(tes_sess)"
   ]
  },
  {
   "cell_type": "code",
   "execution_count": 75,
   "id": "686a9b0e",
   "metadata": {},
   "outputs": [
    {
     "name": "stdout",
     "output_type": "stream",
     "text": [
      "item count:         36,113         \n"
     ]
    }
   ],
   "source": [
    "item_dict = {}\n",
    "# Convert training sessions to sequences and renumber items to start from 1\n",
    "def obtian_tra():\n",
    "    train_ids = []\n",
    "    train_seqs = []\n",
    "    train_dates = []\n",
    "    item_ctr = 1\n",
    "    for s, date in tra_sess:\n",
    "        seq = sess_clicks[s]\n",
    "        outseq = []\n",
    "        for i in seq:\n",
    "            if i in item_dict:\n",
    "                outseq += [item_dict[i]]\n",
    "            else:\n",
    "                outseq += [item_ctr]\n",
    "                item_dict[i] = item_ctr\n",
    "                item_ctr += 1\n",
    "        if len(outseq) < 2:  # Doesn't occur\n",
    "            continue\n",
    "        train_ids += [s]\n",
    "        train_dates += [date]\n",
    "        train_seqs += [outseq]\n",
    "\n",
    "    preprocess_output_log['item count:'] = item_ctr\n",
    "    print(\"{:<20}{:<15,}\".format(\"item count:\",item_ctr) )    \n",
    "    return train_ids, train_dates, train_seqs\n",
    "\n",
    "\n",
    "# Convert test sessions to sequences, ignoring items that do not appear in training set\n",
    "def obtian_tes():\n",
    "    test_ids = []\n",
    "    test_seqs = []\n",
    "    test_dates = []\n",
    "    for s, date in tes_sess:\n",
    "        seq = sess_clicks[s]\n",
    "        outseq = []\n",
    "        for i in seq:\n",
    "            if i in item_dict:  ### avoid cold start issue\n",
    "                outseq += [item_dict[i]]\n",
    "        if len(outseq) < 2:\n",
    "            continue\n",
    "        test_ids += [s]\n",
    "        test_dates += [date]\n",
    "        test_seqs += [outseq]\n",
    "    return test_ids, test_dates, test_seqs\n",
    "\n",
    "\n",
    "tra_ids, tra_dates, tra_seqs = obtian_tra()\n",
    "tes_ids, tes_dates, tes_seqs = obtian_tes()"
   ]
  },
  {
   "cell_type": "code",
   "execution_count": 78,
   "id": "b0aaa550",
   "metadata": {},
   "outputs": [
    {
     "name": "stdout",
     "output_type": "stream",
     "text": [
      "number of training sequences       1,785,996           \n",
      "number of test sequences           116,555             \n",
      "\n",
      "[[1, 2, 3, 4, 5, 6, 7, 8, 9, 10, 11, 12, 13, 14, 15, 16, 17, 18, 19, 20, 21, 22, 23, 24, 25, 26, 27, 28, 29, 30, 31, 32, 33, 34, 35, 36, 37, 38, 39, 40], [1, 2, 3, 4, 5, 6, 7, 8, 9, 10, 11, 12, 13, 14, 15, 16, 17, 18, 19, 20, 21, 22, 23, 24, 25, 26, 27, 28, 29, 30, 31, 32, 33, 34, 35, 36, 37, 38, 39], [1, 2, 3, 4, 5, 6, 7, 8, 9, 10, 11, 12, 13, 14, 15, 16, 17, 18, 19, 20, 21, 22, 23, 24, 25, 26, 27, 28, 29, 30, 31, 32, 33, 34, 35, 36, 37, 38]] [1644168145.0, 1644168145.0, 1644168145.0] [41, 40, 39]\n",
      "\n",
      "avg length:              29.91               \n",
      "\n"
     ]
    },
    {
     "data": {
      "text/plain": [
       "{'start time': datetime.datetime(2022, 12, 8, 15, 20, 14, 198703),\n",
       " 'length 1 sessions filtered': 168,\n",
       " 'max date': Timestamp('2022-11-30 21:45:03'),\n",
       " 'amex split days before maxdate': 20,\n",
       " 'min date': Timestamp('2022-02-06 17:22:25'),\n",
       " 'len training sessions (tra_sess)': 61365,\n",
       " 'len test sessions (tes_sess)': 4438,\n",
       " 'item count:': 36113,\n",
       " 'len training seqs (tr_seqs)': 1785996,\n",
       " 'len test seqs (te_seqs)': 1785996,\n",
       " 'avg length': 29.912830722003555}"
      ]
     },
     "execution_count": 78,
     "metadata": {},
     "output_type": "execute_result"
    }
   ],
   "source": [
    "def process_seqs(iseqs, idates):\n",
    "    out_seqs = []\n",
    "    out_dates = []\n",
    "    labs = []\n",
    "    ids = []\n",
    "    for id, seq, date in zip(range(len(iseqs)), iseqs, idates):\n",
    "        for i in range(1, len(seq)):\n",
    "            tar = seq[-i]\n",
    "            labs += [tar]\n",
    "            out_seqs += [seq[:-i]]\n",
    "            out_dates += [date]\n",
    "            ids += [id]\n",
    "    return out_seqs, out_dates, labs, ids\n",
    "\n",
    "\n",
    "tr_seqs, tr_dates, tr_labs, tr_ids = process_seqs(tra_seqs, tra_dates)\n",
    "te_seqs, te_dates, te_labs, te_ids = process_seqs(tes_seqs, tes_dates)\n",
    "tra = (tr_seqs, tr_labs)\n",
    "tes = (te_seqs, te_labs)\n",
    "print(\"{:<35}{:<20,}\".format(\"number of training sequences\",len(tr_seqs))  )\n",
    "print(\"{:<35}{:<20,}\".format(\"number of test sequences\",len(te_seqs))  )\n",
    "print()\n",
    "print(tr_seqs[:3], tr_dates[:3], tr_labs[:3])\n",
    "# print(te_seqs[:3], te_dates[:3], te_labs[:3])\n",
    "all = 0\n",
    "\n",
    "preprocess_output_log['len training seqs (tr_seqs)'] = len(tr_seqs)\n",
    "preprocess_output_log['len test seqs (te_seqs)'] = len(tr_seqs)\n",
    "\n",
    "for seq in tra_seqs:\n",
    "    all += len(seq)\n",
    "for seq in tes_seqs:\n",
    "    all += len(seq)\n",
    "print()\n",
    "print(\"{:<25}{:<20.2f}\".format('avg length: ', all/(len(tra_seqs) + len(tes_seqs) * 1.0)))\n",
    "print()\n",
    "preprocess_output_log['avg length'] = all/(len(tra_seqs) + len(tes_seqs) * 1.0)\n",
    "preprocess_output_log"
   ]
  },
  {
   "cell_type": "code",
   "execution_count": 79,
   "id": "47248ec0",
   "metadata": {},
   "outputs": [],
   "source": [
    "dir_path=\"./dataset\"\n",
    "if not os.path.exists(dir_path):\n",
    "    os.makedirs(dir_path)\n",
    "pickle.dump(tra, open(dir_path + '/train.txt', 'wb'))\n",
    "pickle.dump(tes, open(dir_path + '/test.txt', 'wb'))\n",
    "pickle.dump(tra_seqs, open(dir_path + '/all_train_seq.txt', 'wb'))\n",
    "pickle.dump(tes_seqs, open(dir_path + '/all_test_seq.txt', 'wb'))"
   ]
  },
  {
   "cell_type": "code",
   "execution_count": null,
   "id": "a8942c1f",
   "metadata": {},
   "outputs": [],
   "source": []
  }
 ],
 "metadata": {
  "kernelspec": {
   "display_name": "myenv",
   "language": "python",
   "name": "myenv"
  },
  "language_info": {
   "codemirror_mode": {
    "name": "ipython",
    "version": 3
   },
   "file_extension": ".py",
   "mimetype": "text/x-python",
   "name": "python",
   "nbconvert_exporter": "python",
   "pygments_lexer": "ipython3",
   "version": "3.7.10"
  }
 },
 "nbformat": 4,
 "nbformat_minor": 5
}
